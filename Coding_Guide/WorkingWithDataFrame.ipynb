{
 "cells": [
  {
   "cell_type": "markdown",
   "id": "c1e72736",
   "metadata": {},
   "source": [
    "This guide should give you a good back ground knowledge of how to work with the data set the we often use. First we need to import all of the important libraries"
   ]
  },
  {
   "cell_type": "code",
   "execution_count": 1,
   "id": "e2ea00a7",
   "metadata": {},
   "outputs": [],
   "source": [
    "import pandas as pd\n",
    "import matplotlib.pyplot as plt\n",
    "import numpy as np"
   ]
  },
  {
   "cell_type": "markdown",
   "id": "a36ef9fe",
   "metadata": {},
   "source": [
    "Now, we need to take the pkl file we already converted in our terminal and change it into a data frame. "
   ]
  },
  {
   "cell_type": "code",
   "execution_count": null,
   "id": "df28681f",
   "metadata": {},
   "outputs": [],
   "source": [
    "df = pd.read_pickle('Insert the path to your file here')\n",
    "#typing out just 'df' will display a preview of the data frame, give it a try!\n"
   ]
  },
  {
   "cell_type": "markdown",
   "id": "a23f22aa",
   "metadata": {},
   "source": [
    "Now that we have our data frame, we should learn how to access certain columns or rows of it. "
   ]
  },
  {
   "cell_type": "code",
   "execution_count": null,
   "id": "818ae0e6",
   "metadata": {},
   "outputs": [
    {
     "ename": "NameError",
     "evalue": "name 'df' is not defined",
     "output_type": "error",
     "traceback": [
      "\u001b[0;31m---------------------------------------------------------------------------\u001b[0m",
      "\u001b[0;31mNameError\u001b[0m                                 Traceback (most recent call last)",
      "Cell \u001b[0;32mIn[2], line 2\u001b[0m\n\u001b[1;32m      1\u001b[0m \u001b[38;5;66;03m#Try using this... what do you see? \u001b[39;00m\n\u001b[0;32m----> 2\u001b[0m \u001b[43mdf\u001b[49m\u001b[38;5;241m.\u001b[39mHG\n",
      "\u001b[0;31mNameError\u001b[0m: name 'df' is not defined"
     ]
    }
   ],
   "source": [
    "#Try using this... what do you see? \n",
    "df.HG"
   ]
  },
  {
   "cell_type": "code",
   "execution_count": null,
   "id": "c9f527ec",
   "metadata": {},
   "outputs": [],
   "source": [
    "# Now try this... what do you see here?\n",
    "df.loc[999,'HG']\n",
    "\n",
    "# Now it's your turn! Try creating something like 'df.HG' using df.loc[]"
   ]
  },
  {
   "cell_type": "markdown",
   "id": "1e8cbafe",
   "metadata": {},
   "source": [
    "Now that we know how to access different parts of the data frame we created, we can start working with the data! Create a historgram using the guide I've set up below\n",
    "\n",
    "If you need help, first consult the the [documentation](https://matplotlib.org/stable/api/_as_gen/matplotlib.pyplot.hist.html)"
   ]
  },
  {
   "cell_type": "code",
   "execution_count": null,
   "id": "27b6ed1e",
   "metadata": {},
   "outputs": [],
   "source": [
    "plt.hist(x values, bins = 250, range = (0, 1000), density = True, histtype=u'step')\n",
    "plt.legend()"
   ]
  },
  {
   "cell_type": "markdown",
   "id": "019aa5e1",
   "metadata": {},
   "source": [
    "Next, we want to see all of the channels that we recorded \n",
    "*Hint: try using a for loop*"
   ]
  },
  {
   "cell_type": "code",
   "execution_count": null,
   "id": "729334ea",
   "metadata": {},
   "outputs": [],
   "source": [
    "#Try that here"
   ]
  },
  {
   "cell_type": "markdown",
   "id": "e7910536",
   "metadata": {},
   "source": [
    "Congratulations! Now you know the basics of accessing and using our data!"
   ]
  },
  {
   "cell_type": "markdown",
   "id": "91a2a526",
   "metadata": {},
   "source": []
  }
 ],
 "metadata": {
  "kernelspec": {
   "display_name": "Python 3",
   "language": "python",
   "name": "python3"
  },
  "language_info": {
   "codemirror_mode": {
    "name": "ipython",
    "version": 3
   },
   "file_extension": ".py",
   "mimetype": "text/x-python",
   "name": "python",
   "nbconvert_exporter": "python",
   "pygments_lexer": "ipython3",
   "version": "3.9.6"
  }
 },
 "nbformat": 4,
 "nbformat_minor": 5
}
