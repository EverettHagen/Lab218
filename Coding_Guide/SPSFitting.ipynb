{
 "cells": [
  {
   "cell_type": "markdown",
   "id": "33fc4350",
   "metadata": {},
   "source": [
    "This is how we are going to fit the SPS plots! First and foremost, you're going to **need** Oskar's multigauss.py file in the same folder that you are running this. If you do not have this **this will not work**. \n",
    "\n",
    "With that out of the way, let's start! We're going to include our libraries and create our dataframe. As alwyas, I'll include new libraries."
   ]
  },
  {
   "cell_type": "code",
   "execution_count": null,
   "id": "db76946d",
   "metadata": {},
   "outputs": [],
   "source": [
    "import libraries\n",
    "\n",
    "#This is Oskar's file\n",
    "import multigauss as mg"
   ]
  },
  {
   "cell_type": "code",
   "execution_count": null,
   "id": "327b02bf",
   "metadata": {},
   "outputs": [],
   "source": [
    "df = "
   ]
  },
  {
   "cell_type": "markdown",
   "id": "1da6f149",
   "metadata": {},
   "source": [
    "Next, we should create a canvas that shows the histograms for all the recorded channels. "
   ]
  },
  {
   "cell_type": "code",
   "execution_count": null,
   "id": "e79cc738",
   "metadata": {},
   "outputs": [],
   "source": [
    "#Here"
   ]
  },
  {
   "cell_type": "markdown",
   "id": "3d9d9c61",
   "metadata": {},
   "source": [
    "Similarly to our Cosmics, we want also want to create multiple canvases that each display their own channel. I've included the same guide as in the LookingAtCosmics file"
   ]
  },
  {
   "cell_type": "code",
   "execution_count": null,
   "id": "42aaf3bb",
   "metadata": {},
   "outputs": [],
   "source": [
    "#Insert the number of rows and columns of how many canvases you want\n",
    "n_rows=\n",
    "n_cols=\n",
    "fig, axs = plt.subplots(n_rows, n_cols)\n",
    "\n",
    "#flatten will create a 1D array out of our 2D array\n",
    "axs=axs.flatten()\n",
    "\n",
    "\n",
    "for i,(variable,another variable) in enumerate(zip (axs,amount of channels)):"
   ]
  },
  {
   "cell_type": "markdown",
   "id": "bacdfce2",
   "metadata": {},
   "source": [
    "This next part gets pretty complex pretty quick, so take it slow, it might take awhile to fully understand it. This will fit a single channel. I've included the guide below"
   ]
  },
  {
   "cell_type": "code",
   "execution_count": null,
   "id": "f3b7fd5d",
   "metadata": {},
   "outputs": [],
   "source": [
    "content, bins, _ = plt.hist(The channel you want to look at, bins = 1000, range = (0,1000), density  = True, alpha = 0.9)\n",
    "centers = (bins[:-1] + bins[1:])/2\n",
    "\n",
    "r, c = scipy.optimize.curve_fit(mg.sps_poisson, centers, content, p0=(70, 44, 5, 0.4, 6.5, 100))\n",
    "\n",
    "ped, gain, width_base, width_scale, poisson_k, ped_offset = r\n",
    "\n",
    "mask = (centers > 90) \n",
    "\n",
    "r, c = scipy.optimize.curve_fit(mg.sps_poisson, centers[mask], content[mask], p0=r, sigma = np.where(content[mask] > 0, np.sqrt(content[mask]), 1))\n",
    "\n",
    "\n",
    "multigauss, peaks =  mg.sps_poisson(centers, *r, output_single_peaks=True)\n",
    "\n",
    "print(r)\n",
    "\n",
    "ped, gain, width_base, width_scale, poisson_k, ped_offset = r\n",
    "\n",
    "\n",
    "for peak in peaks:\n",
    "    plt.plot(centers, peak, '--', color = 'C1', lw = 0.5)\n",
    "plt.plot(centers[mask], mg.sps_poisson(centers[mask], *r), lw = 2, label = f'Multi-Gauss Fit, gain = {gain:.2f} ADC/p.e.')\n",
    "\n",
    "\n",
    "plt.ylabel('Normalized Counts')\n",
    "plt.xlabel('ADC')\n",
    "\n",
    "plt.legend(fontsize='x-large')\n",
    "\n",
    "plt.xlim(0, 800)\n",
    "\n",
    "\n",
    "\n",
    "plt.savefig('sps_fit_fancy.pdf')\n",
    "\n",
    "print(c)\n",
    "\n",
    "with np.printoptions(precision=4, suppress=True, formatter={'float': '{:0.4f}'.format}, linewidth=100):\n",
    "    print(c)\n"
   ]
  },
  {
   "cell_type": "markdown",
   "id": "465c1d33",
   "metadata": {},
   "source": [
    "Hopefully, all of this should set you up to fit all of the channels you ran in a single code box. You'll want to use the concepts of displaying each histogram on their own canvas in order to make it look nice. It will take awhile to run. Good luck!"
   ]
  },
  {
   "cell_type": "code",
   "execution_count": 1,
   "id": "f03994b7",
   "metadata": {},
   "outputs": [],
   "source": [
    "#Good luck!"
   ]
  }
 ],
 "metadata": {
  "kernelspec": {
   "display_name": "Python 3",
   "language": "python",
   "name": "python3"
  },
  "language_info": {
   "codemirror_mode": {
    "name": "ipython",
    "version": 3
   },
   "file_extension": ".py",
   "mimetype": "text/x-python",
   "name": "python",
   "nbconvert_exporter": "python",
   "pygments_lexer": "ipython3",
   "version": "3.9.6"
  }
 },
 "nbformat": 4,
 "nbformat_minor": 5
}
