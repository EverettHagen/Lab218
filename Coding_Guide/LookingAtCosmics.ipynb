{
 "cells": [
  {
   "cell_type": "markdown",
   "id": "a2e77341",
   "metadata": {},
   "source": [
    "First, import all your libraries and create your dataframe. I've included a few other libraries that you'll want to inculde"
   ]
  },
  {
   "cell_type": "code",
   "execution_count": null,
   "id": "8534201f",
   "metadata": {},
   "outputs": [],
   "source": [
    "import libraries \n",
    "import scipy.optimize\n",
    "import pylandau\n",
    "df = "
   ]
  },
  {
   "cell_type": "markdown",
   "id": "3f3a7444",
   "metadata": {},
   "source": [
    "Now, similarly to the last set of the 1st guide, create a histogram that displays all of the channels on a single canvas"
   ]
  },
  {
   "cell_type": "code",
   "execution_count": null,
   "id": "cc31407c",
   "metadata": {},
   "outputs": [],
   "source": [
    "# Here"
   ]
  },
  {
   "cell_type": "markdown",
   "id": "c9554535",
   "metadata": {},
   "source": [
    "Next, we will create multiple canvases that display all of the channels each on their own canvas. For this, it'll be helpful to use zip, there is a guide set up below"
   ]
  },
  {
   "cell_type": "code",
   "execution_count": null,
   "id": "0b1d0597",
   "metadata": {},
   "outputs": [],
   "source": [
    "#Insert the number of rows and columns of how many canvases you want\n",
    "n_rows=\n",
    "n_cols=\n",
    "fig, axs = plt.subplots(n_rows, n_cols)\n",
    "\n",
    "#flatten will create a 1D array out of our 2D array\n",
    "axs=axs.flatten()\n",
    "\n",
    "\n",
    "for i,(variable,another variable) in enumerate(zip (axs,amount of channels)):"
   ]
  },
  {
   "cell_type": "markdown",
   "id": "49540cdc",
   "metadata": {},
   "source": [
    "Now for the first look! Cosmics follow a landau gaussian, which conveneintly enough exists as a python curve fit already! Follow the guide below. If you need documnetation on scipy.optimize [here](https://docs.scipy.org/doc/scipy/reference/generated/scipy.optimize.curve_fit.html) it is"
   ]
  },
  {
   "cell_type": "code",
   "execution_count": null,
   "id": "143ddfce",
   "metadata": {},
   "outputs": [],
   "source": [
    "#First create a histogram of a single channel, you'll want to not include the pedistal\n",
    "content, bins, _ =\n",
    "\n",
    "#Because we are using a histogram, we'll want to treat it like we are doing a riemann sum, so we'll want to use the middle of the rectangle for a more accurate result\n",
    "centers = (bins[:-1] + bins[1:])/2\n",
    "mask = (centers > 220) \n",
    "\n",
    "fit,__=scipy.optimize.curve_fit(pylandau.langau, centers[mask],content[mask],absolute_sigma=True,p0=(700, 100, 30,3e-4))\n",
    "\n",
    "\n",
    "plt.plot(centers, pylandau.langau(centers,*fit))\n"
   ]
  },
  {
   "cell_type": "markdown",
   "id": "b0d7fd11",
   "metadata": {},
   "source": [
    "However, we've had issues with 'bursts' meaning that all of that data wasn't recorded. We can take a look at when the CAEN stopped recording by making a 2D histogram where the first variable is 'trgid' and the second is the channel. See documentation [here](https://matplotlib.org/3.1.1/api/_as_gen/matplotlib.pyplot.hist2d.html)"
   ]
  },
  {
   "cell_type": "code",
   "execution_count": null,
   "id": "1e1d8632",
   "metadata": {},
   "outputs": [],
   "source": [
    "# Create a 2D histogram here "
   ]
  },
  {
   "cell_type": "markdown",
   "id": "1ac4c308",
   "metadata": {},
   "source": [
    "Now that we know when the CAEN stopped recording, we can make a better fit. To do this we want to exclude the times when the CAEN wasn't recording. Create another fitted histogram where you exclude the non active times. Compare the two fits"
   ]
  },
  {
   "cell_type": "code",
   "execution_count": null,
   "id": "92b98c5a",
   "metadata": {},
   "outputs": [],
   "source": [
    "#Here"
   ]
  }
 ],
 "metadata": {
  "language_info": {
   "name": "python"
  }
 },
 "nbformat": 4,
 "nbformat_minor": 5
}
